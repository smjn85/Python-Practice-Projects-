{
 "cells": [
  {
   "cell_type": "markdown",
   "metadata": {},
   "source": [
    "# Data Analytics Tools , Assignment 4 , Draft 1 "
   ]
  },
  {
   "cell_type": "code",
   "execution_count": 1,
   "metadata": {},
   "outputs": [],
   "source": [
    "#import libraries\n",
    "import pandas as pd\n",
    "%matplotlib inline"
   ]
  },
  {
   "cell_type": "code",
   "execution_count": 2,
   "metadata": {},
   "outputs": [
    {
     "data": {
      "text/html": [
       "<div>\n",
       "<style scoped>\n",
       "    .dataframe tbody tr th:only-of-type {\n",
       "        vertical-align: middle;\n",
       "    }\n",
       "\n",
       "    .dataframe tbody tr th {\n",
       "        vertical-align: top;\n",
       "    }\n",
       "\n",
       "    .dataframe thead th {\n",
       "        text-align: right;\n",
       "    }\n",
       "</style>\n",
       "<table border=\"1\" class=\"dataframe\">\n",
       "  <thead>\n",
       "    <tr style=\"text-align: right;\">\n",
       "      <th></th>\n",
       "      <th>web-scraper-order</th>\n",
       "      <th>web-scraper-start-url</th>\n",
       "      <th>userID</th>\n",
       "      <th>userID-href</th>\n",
       "      <th>name</th>\n",
       "      <th>uploads</th>\n",
       "      <th>subscribers</th>\n",
       "      <th>videoviews</th>\n",
       "      <th>country</th>\n",
       "      <th>channeltype</th>\n",
       "      <th>usercreated</th>\n",
       "      <th>grade</th>\n",
       "      <th>YouTube_Link</th>\n",
       "      <th>YouTube_Link-href</th>\n",
       "      <th>TwitterHandle</th>\n",
       "      <th>TwitterHandle-href</th>\n",
       "      <th>InstagramHandle</th>\n",
       "      <th>InstagramHandle-href</th>\n",
       "      <th>MonthlyEarnings</th>\n",
       "      <th>YearlyEarnings</th>\n",
       "    </tr>\n",
       "  </thead>\n",
       "  <tbody>\n",
       "    <tr>\n",
       "      <th>0</th>\n",
       "      <td>1553043067-5148</td>\n",
       "      <td>https://socialblade.com/youtube/top/5000/mosts...</td>\n",
       "      <td>PewDiePie</td>\n",
       "      <td>https://socialblade.com/youtube/c/pewdiepie</td>\n",
       "      <td>PewDiePie</td>\n",
       "      <td>3779</td>\n",
       "      <td>90210848</td>\n",
       "      <td>20772365682</td>\n",
       "      <td>US</td>\n",
       "      <td>Entertainment</td>\n",
       "      <td>Apr 29th, 2010</td>\n",
       "      <td>A</td>\n",
       "      <td>NaN</td>\n",
       "      <td>https://youtube.com/channel/UC-lHJZR3Gqxm24_Vd...</td>\n",
       "      <td>NaN</td>\n",
       "      <td>https://twitter.com/pewdiepie</td>\n",
       "      <td>NaN</td>\n",
       "      <td>https://instagram.com/pewdiepie</td>\n",
       "      <td>€66.9K - €1.1M</td>\n",
       "      <td>€802.3K - €12.8M</td>\n",
       "    </tr>\n",
       "    <tr>\n",
       "      <th>1</th>\n",
       "      <td>1553043063-5147</td>\n",
       "      <td>https://socialblade.com/youtube/top/5000/mosts...</td>\n",
       "      <td>T-Series</td>\n",
       "      <td>https://socialblade.com/youtube/c/tseriesmusic</td>\n",
       "      <td>T-Series</td>\n",
       "      <td>13218</td>\n",
       "      <td>90194329</td>\n",
       "      <td>65092058996</td>\n",
       "      <td>IN</td>\n",
       "      <td>Music</td>\n",
       "      <td>Mar 13th, 2006</td>\n",
       "      <td>A++</td>\n",
       "      <td>NaN</td>\n",
       "      <td>https://youtube.com/channel/UCq-Fj5jknLsUf-MWS...</td>\n",
       "      <td>NaN</td>\n",
       "      <td>https://instagram.com/tseries.official</td>\n",
       "      <td>NaN</td>\n",
       "      <td>https://plus.google.com/115156822320080163368</td>\n",
       "      <td>€635.6K - €10.2M</td>\n",
       "      <td>€7.6M - €122M</td>\n",
       "    </tr>\n",
       "    <tr>\n",
       "      <th>2</th>\n",
       "      <td>1553043059-5146</td>\n",
       "      <td>https://socialblade.com/youtube/top/5000/mosts...</td>\n",
       "      <td>Gaming</td>\n",
       "      <td>https://socialblade.com/youtube/channel/UCOpNc...</td>\n",
       "      <td>Gaming</td>\n",
       "      <td>0</td>\n",
       "      <td>81888222</td>\n",
       "      <td>0</td>\n",
       "      <td>NaN</td>\n",
       "      <td>Games</td>\n",
       "      <td>Dec 15th, 2013</td>\n",
       "      <td>D-</td>\n",
       "      <td>NaN</td>\n",
       "      <td>https://youtube.com/channel/UCOpNcN46UbXVtpKMr...</td>\n",
       "      <td>NaN</td>\n",
       "      <td>NaN</td>\n",
       "      <td>NaN</td>\n",
       "      <td>https://youtube.com/channel/UCOpNcN46UbXVtpKMr...</td>\n",
       "      <td>€0 - €0</td>\n",
       "      <td>€0 - €0</td>\n",
       "    </tr>\n",
       "    <tr>\n",
       "      <th>3</th>\n",
       "      <td>1553043055-5145</td>\n",
       "      <td>https://socialblade.com/youtube/top/5000/mosts...</td>\n",
       "      <td>YouTube Movies</td>\n",
       "      <td>https://socialblade.com/youtube/channel/UClgRk...</td>\n",
       "      <td>YouTube Movies</td>\n",
       "      <td>0</td>\n",
       "      <td>77413743</td>\n",
       "      <td>0</td>\n",
       "      <td>NaN</td>\n",
       "      <td>Film</td>\n",
       "      <td>Jun 10th, 2015</td>\n",
       "      <td>D-</td>\n",
       "      <td>NaN</td>\n",
       "      <td>https://youtube.com/channel/UClgRkhTL3_hImCAmd...</td>\n",
       "      <td>NaN</td>\n",
       "      <td>NaN</td>\n",
       "      <td>NaN</td>\n",
       "      <td>https://youtube.com/channel/UClgRkhTL3_hImCAmd...</td>\n",
       "      <td>€0 - €0</td>\n",
       "      <td>€0 - €0</td>\n",
       "    </tr>\n",
       "    <tr>\n",
       "      <th>4</th>\n",
       "      <td>1553043051-5144</td>\n",
       "      <td>https://socialblade.com/youtube/top/5000/mosts...</td>\n",
       "      <td>Sports</td>\n",
       "      <td>https://socialblade.com/youtube/channel/UCEgdi...</td>\n",
       "      <td>Sports</td>\n",
       "      <td>0</td>\n",
       "      <td>75622870</td>\n",
       "      <td>0</td>\n",
       "      <td>NaN</td>\n",
       "      <td>Sports</td>\n",
       "      <td>Dec 15th, 2013</td>\n",
       "      <td>D-</td>\n",
       "      <td>NaN</td>\n",
       "      <td>https://youtube.com/channel/UCEgdi0XIXXZ-qJOFP...</td>\n",
       "      <td>NaN</td>\n",
       "      <td>NaN</td>\n",
       "      <td>NaN</td>\n",
       "      <td>https://youtube.com/channel/UCEgdi0XIXXZ-qJOFP...</td>\n",
       "      <td>€0 - €0</td>\n",
       "      <td>€0 - €0</td>\n",
       "    </tr>\n",
       "  </tbody>\n",
       "</table>\n",
       "</div>"
      ],
      "text/plain": [
       "  web-scraper-order                              web-scraper-start-url  \\\n",
       "0   1553043067-5148  https://socialblade.com/youtube/top/5000/mosts...   \n",
       "1   1553043063-5147  https://socialblade.com/youtube/top/5000/mosts...   \n",
       "2   1553043059-5146  https://socialblade.com/youtube/top/5000/mosts...   \n",
       "3   1553043055-5145  https://socialblade.com/youtube/top/5000/mosts...   \n",
       "4   1553043051-5144  https://socialblade.com/youtube/top/5000/mosts...   \n",
       "\n",
       "           userID                                        userID-href  \\\n",
       "0       PewDiePie        https://socialblade.com/youtube/c/pewdiepie   \n",
       "1        T-Series     https://socialblade.com/youtube/c/tseriesmusic   \n",
       "2          Gaming  https://socialblade.com/youtube/channel/UCOpNc...   \n",
       "3  YouTube Movies  https://socialblade.com/youtube/channel/UClgRk...   \n",
       "4          Sports  https://socialblade.com/youtube/channel/UCEgdi...   \n",
       "\n",
       "             name  uploads  subscribers   videoviews country    channeltype  \\\n",
       "0       PewDiePie     3779     90210848  20772365682      US  Entertainment   \n",
       "1        T-Series    13218     90194329  65092058996      IN          Music   \n",
       "2          Gaming        0     81888222            0     NaN          Games   \n",
       "3  YouTube Movies        0     77413743            0     NaN           Film   \n",
       "4          Sports        0     75622870            0     NaN         Sports   \n",
       "\n",
       "      usercreated grade YouTube_Link  \\\n",
       "0  Apr 29th, 2010     A          NaN   \n",
       "1  Mar 13th, 2006   A++          NaN   \n",
       "2  Dec 15th, 2013    D-          NaN   \n",
       "3  Jun 10th, 2015    D-          NaN   \n",
       "4  Dec 15th, 2013    D-          NaN   \n",
       "\n",
       "                                   YouTube_Link-href TwitterHandle  \\\n",
       "0  https://youtube.com/channel/UC-lHJZR3Gqxm24_Vd...           NaN   \n",
       "1  https://youtube.com/channel/UCq-Fj5jknLsUf-MWS...           NaN   \n",
       "2  https://youtube.com/channel/UCOpNcN46UbXVtpKMr...           NaN   \n",
       "3  https://youtube.com/channel/UClgRkhTL3_hImCAmd...           NaN   \n",
       "4  https://youtube.com/channel/UCEgdi0XIXXZ-qJOFP...           NaN   \n",
       "\n",
       "                       TwitterHandle-href InstagramHandle  \\\n",
       "0           https://twitter.com/pewdiepie             NaN   \n",
       "1  https://instagram.com/tseries.official             NaN   \n",
       "2                                     NaN             NaN   \n",
       "3                                     NaN             NaN   \n",
       "4                                     NaN             NaN   \n",
       "\n",
       "                                InstagramHandle-href   MonthlyEarnings  \\\n",
       "0                    https://instagram.com/pewdiepie    €66.9K - €1.1M   \n",
       "1      https://plus.google.com/115156822320080163368  €635.6K - €10.2M   \n",
       "2  https://youtube.com/channel/UCOpNcN46UbXVtpKMr...           €0 - €0   \n",
       "3  https://youtube.com/channel/UClgRkhTL3_hImCAmd...           €0 - €0   \n",
       "4  https://youtube.com/channel/UCEgdi0XIXXZ-qJOFP...           €0 - €0   \n",
       "\n",
       "     YearlyEarnings  \n",
       "0  €802.3K - €12.8M  \n",
       "1     €7.6M - €122M  \n",
       "2           €0 - €0  \n",
       "3           €0 - €0  \n",
       "4           €0 - €0  "
      ]
     },
     "execution_count": 2,
     "metadata": {},
     "output_type": "execute_result"
    }
   ],
   "source": [
    "#load dataset\n",
    "df = pd.read_csv(r'C:\\Users\\smjn0\\OneDrive\\Documents\\SQL1202\\youtube_dataset.csv')\n",
    "df.head()"
   ]
  },
  {
   "cell_type": "code",
   "execution_count": 3,
   "metadata": {},
   "outputs": [
    {
     "data": {
      "text/html": [
       "<div>\n",
       "<style scoped>\n",
       "    .dataframe tbody tr th:only-of-type {\n",
       "        vertical-align: middle;\n",
       "    }\n",
       "\n",
       "    .dataframe tbody tr th {\n",
       "        vertical-align: top;\n",
       "    }\n",
       "\n",
       "    .dataframe thead th {\n",
       "        text-align: right;\n",
       "    }\n",
       "</style>\n",
       "<table border=\"1\" class=\"dataframe\">\n",
       "  <thead>\n",
       "    <tr style=\"text-align: right;\">\n",
       "      <th></th>\n",
       "      <th>web-scraper-order</th>\n",
       "      <th>web-scraper-start-url</th>\n",
       "      <th>userID</th>\n",
       "      <th>userID-href</th>\n",
       "      <th>name</th>\n",
       "      <th>uploads</th>\n",
       "      <th>subscribers</th>\n",
       "      <th>videoviews</th>\n",
       "      <th>country</th>\n",
       "      <th>channeltype</th>\n",
       "      <th>usercreated</th>\n",
       "      <th>grade</th>\n",
       "      <th>YouTube_Link</th>\n",
       "      <th>YouTube_Link-href</th>\n",
       "      <th>TwitterHandle</th>\n",
       "      <th>TwitterHandle-href</th>\n",
       "      <th>InstagramHandle</th>\n",
       "      <th>InstagramHandle-href</th>\n",
       "      <th>MonthlyEarnings</th>\n",
       "      <th>YearlyEarnings</th>\n",
       "    </tr>\n",
       "  </thead>\n",
       "  <tbody>\n",
       "    <tr>\n",
       "      <th>0</th>\n",
       "      <td>1553043067-5148</td>\n",
       "      <td>https://socialblade.com/youtube/top/5000/mosts...</td>\n",
       "      <td>PewDiePie</td>\n",
       "      <td>https://socialblade.com/youtube/c/pewdiepie</td>\n",
       "      <td>PewDiePie</td>\n",
       "      <td>3779</td>\n",
       "      <td>90210848</td>\n",
       "      <td>20772365682</td>\n",
       "      <td>US</td>\n",
       "      <td>Entertainment</td>\n",
       "      <td>Apr 29th, 2010</td>\n",
       "      <td>A</td>\n",
       "      <td>NaN</td>\n",
       "      <td>https://youtube.com/channel/UC-lHJZR3Gqxm24_Vd...</td>\n",
       "      <td>NaN</td>\n",
       "      <td>https://twitter.com/pewdiepie</td>\n",
       "      <td>NaN</td>\n",
       "      <td>https://instagram.com/pewdiepie</td>\n",
       "      <td>€66.9K - €1.1M</td>\n",
       "      <td>€802.3K - €12.8M</td>\n",
       "    </tr>\n",
       "    <tr>\n",
       "      <th>1</th>\n",
       "      <td>1553043063-5147</td>\n",
       "      <td>https://socialblade.com/youtube/top/5000/mosts...</td>\n",
       "      <td>T-Series</td>\n",
       "      <td>https://socialblade.com/youtube/c/tseriesmusic</td>\n",
       "      <td>T-Series</td>\n",
       "      <td>13218</td>\n",
       "      <td>90194329</td>\n",
       "      <td>65092058996</td>\n",
       "      <td>IN</td>\n",
       "      <td>Music</td>\n",
       "      <td>Mar 13th, 2006</td>\n",
       "      <td>A++</td>\n",
       "      <td>NaN</td>\n",
       "      <td>https://youtube.com/channel/UCq-Fj5jknLsUf-MWS...</td>\n",
       "      <td>NaN</td>\n",
       "      <td>https://instagram.com/tseries.official</td>\n",
       "      <td>NaN</td>\n",
       "      <td>https://plus.google.com/115156822320080163368</td>\n",
       "      <td>€635.6K - €10.2M</td>\n",
       "      <td>€7.6M - €122M</td>\n",
       "    </tr>\n",
       "    <tr>\n",
       "      <th>2</th>\n",
       "      <td>1553043059-5146</td>\n",
       "      <td>https://socialblade.com/youtube/top/5000/mosts...</td>\n",
       "      <td>Gaming</td>\n",
       "      <td>https://socialblade.com/youtube/channel/UCOpNc...</td>\n",
       "      <td>Gaming</td>\n",
       "      <td>0</td>\n",
       "      <td>81888222</td>\n",
       "      <td>0</td>\n",
       "      <td>NaN</td>\n",
       "      <td>Games</td>\n",
       "      <td>Dec 15th, 2013</td>\n",
       "      <td>D-</td>\n",
       "      <td>NaN</td>\n",
       "      <td>https://youtube.com/channel/UCOpNcN46UbXVtpKMr...</td>\n",
       "      <td>NaN</td>\n",
       "      <td>NaN</td>\n",
       "      <td>NaN</td>\n",
       "      <td>https://youtube.com/channel/UCOpNcN46UbXVtpKMr...</td>\n",
       "      <td>€0 - €0</td>\n",
       "      <td>€0 - €0</td>\n",
       "    </tr>\n",
       "    <tr>\n",
       "      <th>3</th>\n",
       "      <td>1553043055-5145</td>\n",
       "      <td>https://socialblade.com/youtube/top/5000/mosts...</td>\n",
       "      <td>YouTube Movies</td>\n",
       "      <td>https://socialblade.com/youtube/channel/UClgRk...</td>\n",
       "      <td>YouTube Movies</td>\n",
       "      <td>0</td>\n",
       "      <td>77413743</td>\n",
       "      <td>0</td>\n",
       "      <td>NaN</td>\n",
       "      <td>Film</td>\n",
       "      <td>Jun 10th, 2015</td>\n",
       "      <td>D-</td>\n",
       "      <td>NaN</td>\n",
       "      <td>https://youtube.com/channel/UClgRkhTL3_hImCAmd...</td>\n",
       "      <td>NaN</td>\n",
       "      <td>NaN</td>\n",
       "      <td>NaN</td>\n",
       "      <td>https://youtube.com/channel/UClgRkhTL3_hImCAmd...</td>\n",
       "      <td>€0 - €0</td>\n",
       "      <td>€0 - €0</td>\n",
       "    </tr>\n",
       "    <tr>\n",
       "      <th>4</th>\n",
       "      <td>1553043051-5144</td>\n",
       "      <td>https://socialblade.com/youtube/top/5000/mosts...</td>\n",
       "      <td>Sports</td>\n",
       "      <td>https://socialblade.com/youtube/channel/UCEgdi...</td>\n",
       "      <td>Sports</td>\n",
       "      <td>0</td>\n",
       "      <td>75622870</td>\n",
       "      <td>0</td>\n",
       "      <td>NaN</td>\n",
       "      <td>Sports</td>\n",
       "      <td>Dec 15th, 2013</td>\n",
       "      <td>D-</td>\n",
       "      <td>NaN</td>\n",
       "      <td>https://youtube.com/channel/UCEgdi0XIXXZ-qJOFP...</td>\n",
       "      <td>NaN</td>\n",
       "      <td>NaN</td>\n",
       "      <td>NaN</td>\n",
       "      <td>https://youtube.com/channel/UCEgdi0XIXXZ-qJOFP...</td>\n",
       "      <td>€0 - €0</td>\n",
       "      <td>€0 - €0</td>\n",
       "    </tr>\n",
       "  </tbody>\n",
       "</table>\n",
       "</div>"
      ],
      "text/plain": [
       "  web-scraper-order                              web-scraper-start-url  \\\n",
       "0   1553043067-5148  https://socialblade.com/youtube/top/5000/mosts...   \n",
       "1   1553043063-5147  https://socialblade.com/youtube/top/5000/mosts...   \n",
       "2   1553043059-5146  https://socialblade.com/youtube/top/5000/mosts...   \n",
       "3   1553043055-5145  https://socialblade.com/youtube/top/5000/mosts...   \n",
       "4   1553043051-5144  https://socialblade.com/youtube/top/5000/mosts...   \n",
       "\n",
       "           userID                                        userID-href  \\\n",
       "0       PewDiePie        https://socialblade.com/youtube/c/pewdiepie   \n",
       "1        T-Series     https://socialblade.com/youtube/c/tseriesmusic   \n",
       "2          Gaming  https://socialblade.com/youtube/channel/UCOpNc...   \n",
       "3  YouTube Movies  https://socialblade.com/youtube/channel/UClgRk...   \n",
       "4          Sports  https://socialblade.com/youtube/channel/UCEgdi...   \n",
       "\n",
       "             name  uploads  subscribers   videoviews country    channeltype  \\\n",
       "0       PewDiePie     3779     90210848  20772365682      US  Entertainment   \n",
       "1        T-Series    13218     90194329  65092058996      IN          Music   \n",
       "2          Gaming        0     81888222            0     NaN          Games   \n",
       "3  YouTube Movies        0     77413743            0     NaN           Film   \n",
       "4          Sports        0     75622870            0     NaN         Sports   \n",
       "\n",
       "      usercreated grade YouTube_Link  \\\n",
       "0  Apr 29th, 2010     A          NaN   \n",
       "1  Mar 13th, 2006   A++          NaN   \n",
       "2  Dec 15th, 2013    D-          NaN   \n",
       "3  Jun 10th, 2015    D-          NaN   \n",
       "4  Dec 15th, 2013    D-          NaN   \n",
       "\n",
       "                                   YouTube_Link-href TwitterHandle  \\\n",
       "0  https://youtube.com/channel/UC-lHJZR3Gqxm24_Vd...           NaN   \n",
       "1  https://youtube.com/channel/UCq-Fj5jknLsUf-MWS...           NaN   \n",
       "2  https://youtube.com/channel/UCOpNcN46UbXVtpKMr...           NaN   \n",
       "3  https://youtube.com/channel/UClgRkhTL3_hImCAmd...           NaN   \n",
       "4  https://youtube.com/channel/UCEgdi0XIXXZ-qJOFP...           NaN   \n",
       "\n",
       "                       TwitterHandle-href InstagramHandle  \\\n",
       "0           https://twitter.com/pewdiepie             NaN   \n",
       "1  https://instagram.com/tseries.official             NaN   \n",
       "2                                     NaN             NaN   \n",
       "3                                     NaN             NaN   \n",
       "4                                     NaN             NaN   \n",
       "\n",
       "                                InstagramHandle-href   MonthlyEarnings  \\\n",
       "0                    https://instagram.com/pewdiepie    €66.9K - €1.1M   \n",
       "1      https://plus.google.com/115156822320080163368  €635.6K - €10.2M   \n",
       "2  https://youtube.com/channel/UCOpNcN46UbXVtpKMr...           €0 - €0   \n",
       "3  https://youtube.com/channel/UClgRkhTL3_hImCAmd...           €0 - €0   \n",
       "4  https://youtube.com/channel/UCEgdi0XIXXZ-qJOFP...           €0 - €0   \n",
       "\n",
       "     YearlyEarnings  \n",
       "0  €802.3K - €12.8M  \n",
       "1     €7.6M - €122M  \n",
       "2           €0 - €0  \n",
       "3           €0 - €0  \n",
       "4           €0 - €0  "
      ]
     },
     "execution_count": 3,
     "metadata": {},
     "output_type": "execute_result"
    }
   ],
   "source": [
    "#select first 1000 rows\n",
    "newdf =df.iloc[0:1001,0:20]\n",
    "newdf.head()"
   ]
  },
  {
   "cell_type": "markdown",
   "metadata": {},
   "source": [
    "# Calculate Relative Frequency\n",
    "N= Number of rows, \n",
    "f= count of a channeltype,  \n",
    "Relative frequency = f/n"
   ]
  },
  {
   "cell_type": "code",
   "execution_count": 4,
   "metadata": {},
   "outputs": [],
   "source": [
    "f = newdf['channeltype'].value_counts()"
   ]
  },
  {
   "cell_type": "code",
   "execution_count": 5,
   "metadata": {},
   "outputs": [
    {
     "name": "stdout",
     "output_type": "stream",
     "text": [
      "Entertainment    284\n",
      "Music            241\n",
      "Games            115\n",
      "Comedy            76\n",
      "People            72\n",
      "Howto             49\n",
      "Film              36\n",
      "Education         30\n",
      "Tech              19\n",
      "Sports            17\n",
      "News              17\n",
      "Autos              3\n",
      "Animals            2\n",
      "Travel             1\n",
      "Nonprofit          1\n",
      "Name: channeltype, dtype: int64\n"
     ]
    }
   ],
   "source": [
    "print(f)"
   ]
  },
  {
   "cell_type": "code",
   "execution_count": 6,
   "metadata": {},
   "outputs": [
    {
     "name": "stdout",
     "output_type": "stream",
     "text": [
      "Entertainment    0.284\n",
      "Music            0.241\n",
      "Games            0.115\n",
      "Comedy           0.076\n",
      "People           0.072\n",
      "Howto            0.049\n",
      "Film             0.036\n",
      "Education        0.030\n",
      "Tech             0.019\n",
      "Sports           0.017\n",
      "News             0.017\n",
      "Autos            0.003\n",
      "Animals          0.002\n",
      "Travel           0.001\n",
      "Nonprofit        0.001\n",
      "Name: channeltype, dtype: float64\n"
     ]
    }
   ],
   "source": [
    "N= 1000\n",
    "relf= f/N\n",
    "print(relf)"
   ]
  },
  {
   "cell_type": "code",
   "execution_count": 7,
   "metadata": {},
   "outputs": [
    {
     "data": {
      "text/plain": [
       "<matplotlib.axes._subplots.AxesSubplot at 0x1d429965370>"
      ]
     },
     "execution_count": 7,
     "metadata": {},
     "output_type": "execute_result"
    },
    {
     "data": {
      "image/png": "[encoded data removed]",
      "text/plain": [
       "<Figure size 432x288 with 1 Axes>"
      ]
     },
     "metadata": {
      "needs_background": "light"
     },
     "output_type": "display_data"
    }
   ],
   "source": [
    "relf.plot(kind=\"bar\", label = 'Distribution of Channel Type')"
   ]
  },
  {
   "cell_type": "code",
   "execution_count": 8,
   "metadata": {},
   "outputs": [
    {
     "data": {
      "text/plain": [
       "<matplotlib.axes._subplots.AxesSubplot at 0x1d42a0a8d00>"
      ]
     },
     "execution_count": 8,
     "metadata": {},
     "output_type": "execute_result"
    },
    {
     "data": {
      "image/png": "[encoded data removed]",
      "text/plain": [
       "<Figure size 432x288 with 1 Axes>"
      ]
     },
     "metadata": {},
     "output_type": "display_data"
    }
   ],
   "source": [
    "relf.plot(kind=\"pie\", label = 'Distribution of Channel Type')"
   ]
  },
  {
   "cell_type": "code",
   "execution_count": 9,
   "metadata": {},
   "outputs": [
    {
     "data": {
      "text/plain": [
       "<matplotlib.axes._subplots.AxesSubplot at 0x1d42a16d730>"
      ]
     },
     "execution_count": 9,
     "metadata": {},
     "output_type": "execute_result"
    },
    {
     "data": {
      "image/png": "[encoded data removed]",
      "text/plain": [
       "<Figure size 432x288 with 1 Axes>"
      ]
     },
     "metadata": {
      "needs_background": "light"
     },
     "output_type": "display_data"
    }
   ],
   "source": [
    "relf.plot(kind=\"hist\")\n"
   ]
  },
  {
   "cell_type": "code",
   "execution_count": 10,
   "metadata": {},
   "outputs": [
    {
     "data": {
      "text/plain": [
       "<matplotlib.axes._subplots.AxesSubplot at 0x1d42a1ba0d0>"
      ]
     },
     "execution_count": 10,
     "metadata": {},
     "output_type": "execute_result"
    },
    {
     "data": {
      "image/png": "[encoded data removed]",
      "text/plain": [
       "<Figure size 432x288 with 1 Axes>"
      ]
     },
     "metadata": {
      "needs_background": "light"
     },
     "output_type": "display_data"
    }
   ],
   "source": [
    "relf.plot(kind=\"line\")"
   ]
  },
  {
   "cell_type": "markdown",
   "metadata": {},
   "source": [
    "# Combining all the steps above in a single function \n",
    ",  Step 1- Select rows \n",
    ",  Step 2 - calculate frequency\n",
    ",  step 3 - Plot "
   ]
  },
  {
   "cell_type": "code",
   "execution_count": 60,
   "metadata": {},
   "outputs": [],
   "source": [
    "def channeltype(N):\n",
    "    return ((df.iloc[0:N+1,0:20])['channeltype'].value_counts()).plot(kind=\"bar\")\n"
   ]
  },
  {
   "cell_type": "code",
   "execution_count": 61,
   "metadata": {},
   "outputs": [
    {
     "data": {
      "text/plain": [
       "<matplotlib.axes._subplots.AxesSubplot at 0x1d42a5339a0>"
      ]
     },
     "execution_count": 61,
     "metadata": {},
     "output_type": "execute_result"
    },
    {
     "data": {
      "image/png": "[encoded data removed]",
      "text/plain": [
       "<Figure size 432x288 with 1 Axes>"
      ]
     },
     "metadata": {
      "needs_background": "light"
     },
     "output_type": "display_data"
    }
   ],
   "source": [
    "channeltype(1000)"
   ]
  },
  {
   "cell_type": "markdown",
   "metadata": {},
   "source": []
  }
 ],
 "metadata": {
  "kernelspec": {
   "display_name": "Python 3",
   "language": "python",
   "name": "python3"
  },
  "language_info": {
   "codemirror_mode": {
    "name": "ipython",
    "version": 3
   },
   "file_extension": ".py",
   "mimetype": "text/x-python",
   "name": "python",
   "nbconvert_exporter": "python",
   "pygments_lexer": "ipython3",
   "version": "3.8.3"
  }
 },
 "nbformat": 4,
 "nbformat_minor": 4
}
